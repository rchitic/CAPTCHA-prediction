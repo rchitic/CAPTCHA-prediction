{
 "cells": [
  {
   "cell_type": "code",
   "execution_count": 1,
   "metadata": {},
   "outputs": [],
   "source": [
    "import numpy as np\n",
    "import keras\n",
    "import tensorflow as tf\n",
    "from keras.utils import to_categorical\n",
    "import pandas as pd\n",
    "import matplotlib.pyplot as plt\n",
    "from PIL import Image\n",
    "from sklearn.model_selection import train_test_split\n",
    "from keras.models import Sequential\n",
    "from keras.layers import Dense, Dropout, Flatten, Conv2D, MaxPool2D, BatchNormalization, Activation, MaxPooling2D, Reshape\n",
    "from keras.preprocessing.image import ImageDataGenerator\n",
    "from keras.callbacks import LearningRateScheduler\n",
    "import random\n",
    "import cv2\n",
    "from keras.utils import plot_model \n",
    "from skimage.util import random_noise\n",
    "from skimage import filters\n",
    "from skimage import morphology\n",
    "from skimage.morphology import remove_small_objects\n",
    "from skimage.transform import resize"
   ]
  },
  {
   "cell_type": "markdown",
   "metadata": {},
   "source": [
    "### Task 1"
   ]
  },
  {
   "cell_type": "code",
   "execution_count": 2,
   "metadata": {},
   "outputs": [],
   "source": [
    "with np.load('data/data/training-dataset.npz') as data:\n",
    "    img = data['x']\n",
    "    lbl = data['y']"
   ]
  },
  {
   "cell_type": "code",
   "execution_count": 3,
   "metadata": {},
   "outputs": [
    {
     "data": {
      "text/plain": [
       "array([ 1,  2,  3,  4,  5,  6,  7,  8,  9, 10, 11, 12, 13, 14, 15, 16, 17,\n",
       "       18, 19, 20, 21, 22, 23, 24, 25, 26], dtype=uint8)"
      ]
     },
     "execution_count": 3,
     "metadata": {},
     "output_type": "execute_result"
    }
   ],
   "source": [
    "np.unique(lbl)"
   ]
  },
  {
   "cell_type": "markdown",
   "metadata": {},
   "source": [
    "### Reshaping image to 30x28 for easier use in task 2"
   ]
  },
  {
   "cell_type": "code",
   "execution_count": 4,
   "metadata": {},
   "outputs": [],
   "source": [
    "img = img.reshape(-1,28,28)\n",
    "img_noise = []\n",
    "for i in img:\n",
    "    noise = np.zeros((30,28))\n",
    "    noise[:i.shape[0],:i.shape[1]] = i\n",
    "    img_noise.append(noise)"
   ]
  },
  {
   "cell_type": "code",
   "execution_count": 5,
   "metadata": {},
   "outputs": [],
   "source": [
    "img_noise = np.array(img_noise)"
   ]
  },
  {
   "cell_type": "code",
   "execution_count": 6,
   "metadata": {},
   "outputs": [
    {
     "data": {
      "text/plain": [
       "(124800, 30, 28, 1)"
      ]
     },
     "execution_count": 6,
     "metadata": {},
     "output_type": "execute_result"
    }
   ],
   "source": [
    "img_noise = img_noise.reshape(-1,30,28,1)\n",
    "img_noise.shape"
   ]
  },
  {
   "cell_type": "markdown",
   "metadata": {},
   "source": [
    "### Adding noise "
   ]
  },
  {
   "cell_type": "code",
   "execution_count": 7,
   "metadata": {},
   "outputs": [],
   "source": [
    "img_noise = random_noise(img_noise, mode='s&p', amount=0.1)"
   ]
  },
  {
   "cell_type": "markdown",
   "metadata": {},
   "source": [
    "### Splitting the data"
   ]
  },
  {
   "cell_type": "code",
   "execution_count": 8,
   "metadata": {},
   "outputs": [
    {
     "name": "stdout",
     "output_type": "stream",
     "text": [
      "(99840, 30, 28, 1)\n",
      "(24960, 30, 28, 1)\n",
      "(99840, 27)\n",
      "(24960, 27)\n"
     ]
    }
   ],
   "source": [
    "y = to_categorical(lbl)\n",
    "X_train, X_test, y_train, y_test = train_test_split(img_noise, y, test_size=0.2, random_state=42)\n",
    "print(X_train.shape)\n",
    "print(X_test.shape)\n",
    "print(y_train.shape)\n",
    "print(y_test.shape)"
   ]
  },
  {
   "cell_type": "code",
   "execution_count": 9,
   "metadata": {},
   "outputs": [
    {
     "name": "stdout",
     "output_type": "stream",
     "text": [
      "(79872, 30, 28, 1)\n",
      "(19968, 30, 28, 1)\n",
      "(79872, 27)\n",
      "(19968, 27)\n"
     ]
    }
   ],
   "source": [
    "X_train, X_val, y_train, y_val = train_test_split(X_train, y_train, test_size=0.2, random_state=42)\n",
    "print(X_train.shape)\n",
    "print(X_val.shape)\n",
    "print(y_train.shape)\n",
    "print(y_val.shape)"
   ]
  },
  {
   "cell_type": "markdown",
   "metadata": {},
   "source": [
    "### Creating the model and running the model"
   ]
  },
  {
   "cell_type": "code",
   "execution_count": 10,
   "metadata": {},
   "outputs": [],
   "source": [
    "model = Sequential()\n",
    "model.add(Conv2D(32, kernel_size = 3, activation='relu', input_shape = (30,28,1)))\n",
    "model.add(BatchNormalization())\n",
    "model.add(Conv2D(32, kernel_size = 3, activation='relu'))\n",
    "model.add(BatchNormalization())\n",
    "model.add(Conv2D(32, kernel_size = 5, strides=2, padding='same', activation='relu'))\n",
    "model.add(BatchNormalization())\n",
    "model.add(Dropout(0.4))\n",
    "\n",
    "model.add(Conv2D(64, kernel_size = 3, activation='relu'))\n",
    "model.add(BatchNormalization())\n",
    "model.add(Conv2D(64, kernel_size = 3, activation='relu'))\n",
    "model.add(BatchNormalization())\n",
    "model.add(Conv2D(64, kernel_size = 5, strides=2, padding='same', activation='relu'))\n",
    "model.add(BatchNormalization())\n",
    "model.add(Dropout(0.4))\n",
    "\n",
    "model.add(Conv2D(128, kernel_size = 4, activation='relu'))\n",
    "model.add(BatchNormalization())\n",
    "model.add(Flatten())\n",
    "model.add(Dropout(0.4))\n",
    "model.add(Dense(27, activation='softmax'))\n",
    "\n",
    "model.compile(optimizer=\"adam\", loss=\"categorical_crossentropy\", metrics=[\"accuracy\"])\n",
    "plot_model(model, to_file='model.png',rankdir='LR')\n",
    "\n",
    "history = model.fit(X_train, y_train, validation_data=(X_val, y_val), epochs=5, batch_size=64)"
   ]
  },
  {
   "cell_type": "code",
   "execution_count": 11,
   "metadata": {},
   "outputs": [],
   "source": [
    "def plot_history(history):# Plot the loss and accuracy\n",
    "    # Format the train history\n",
    "    history_df = pd.DataFrame(history.history, columns=history.history.keys())\n",
    "    display(history_df)\n",
    "    \n",
    "    fig = plt.figure()\n",
    "    ax = plt.subplot(111)\n",
    "    for i in range(history_df.shape[1]):\n",
    "        ax.plot(history_df.iloc[:,i], label=history_df.columns[i])\n",
    "    ax.legend()\n",
    "    plt.title('Score() and loss during training.')\n",
    "    plt.xlabel('Training step')\n",
    "    plt.ylabel('Accuracy and Loss')\n",
    "    plt.grid(b=True, which='major', axis='both')\n",
    "    plt.show()\n",
    "\n",
    "plot_history(history)"
   ]
  },
  {
   "cell_type": "markdown",
   "metadata": {},
   "source": [
    "### Save parameters for future loading"
   ]
  },
  {
   "cell_type": "code",
   "execution_count": 12,
   "metadata": {},
   "outputs": [],
   "source": [
    "#model.save(\"noise_30x28_model.h5\")\n",
    "model = keras.models.load_model('noise_30x28_model.h5')"
   ]
  },
  {
   "cell_type": "markdown",
   "metadata": {},
   "source": [
    "### Classification report "
   ]
  },
  {
   "cell_type": "code",
   "execution_count": 13,
   "metadata": {},
   "outputs": [
    {
     "name": "stdout",
     "output_type": "stream",
     "text": [
      "0.9171073717948718\n",
      "              precision    recall  f1-score   support\n",
      "\n",
      "           1       0.92      0.87      0.89      1008\n",
      "           2       0.97      0.95      0.96       927\n",
      "           3       0.86      0.96      0.91       977\n",
      "           4       0.95      0.92      0.93       947\n",
      "           5       0.93      0.87      0.90       919\n",
      "           6       0.97      0.94      0.95       970\n",
      "           7       0.80      0.85      0.82       908\n",
      "           8       0.87      0.96      0.91       933\n",
      "           9       0.78      0.64      0.70       938\n",
      "          10       0.96      0.92      0.94       975\n",
      "          11       0.95      0.95      0.95       972\n",
      "          12       0.69      0.83      0.75       958\n",
      "          13       0.96      0.98      0.97       941\n",
      "          14       0.93      0.92      0.93       941\n",
      "          15       0.92      0.98      0.95       939\n",
      "          16       0.98      0.96      0.97       969\n",
      "          17       0.84      0.82      0.83       961\n",
      "          18       0.93      0.94      0.93       984\n",
      "          19       0.97      0.96      0.97       951\n",
      "          20       0.97      0.93      0.95       999\n",
      "          21       0.93      0.94      0.93      1000\n",
      "          22       0.91      0.95      0.93       989\n",
      "          23       0.98      0.96      0.97       976\n",
      "          24       0.97      0.96      0.97       939\n",
      "          25       0.96      0.93      0.95       964\n",
      "          26       0.98      0.96      0.97       975\n",
      "\n",
      "    accuracy                           0.92     24960\n",
      "   macro avg       0.92      0.92      0.92     24960\n",
      "weighted avg       0.92      0.92      0.92     24960\n",
      "\n"
     ]
    }
   ],
   "source": [
    "from sklearn.metrics import accuracy_score, classification_report\n",
    "y_pred = model.predict(X_test)\n",
    "y_pred = np.argmax(y_pred, axis=1)\n",
    "y_test = np.argmax(y_test, axis=1)\n",
    "print(accuracy_score(y_test, y_pred))\n",
    "print(classification_report(y_test, y_pred))"
   ]
  },
  {
   "cell_type": "code",
   "execution_count": 14,
   "metadata": {},
   "outputs": [
    {
     "data": {
      "image/png": "[encoded data removed]",
      "text/plain": [
       "<Figure size 1440x1440 with 10 Axes>"
      ]
     },
     "metadata": {
      "needs_background": "light"
     },
     "output_type": "display_data"
    }
   ],
   "source": [
    "plt.figure(figsize=(20,20))\n",
    "j=0\n",
    "for i in range(0,10):\n",
    "    plt.subplot(10,10,j+1),plt.imshow(X_test[j].reshape(30,28)), plt.axis('off')\n",
    "    plt.title('{} / {}'.format(y_test[j], y_pred[j]))\n",
    "    j+=1\n",
    "plt.suptitle('Actual vs. Predicted Labels', size=20)\n",
    "plt.show()"
   ]
  },
  {
   "cell_type": "markdown",
   "metadata": {},
   "source": [
    "### Is there a wrong label in the data?\n",
    "The model prediction for this 'i' is correct, but the label in y_test is wrong"
   ]
  },
  {
   "cell_type": "code",
   "execution_count": 15,
   "metadata": {},
   "outputs": [
    {
     "data": {
      "text/plain": [
       "9"
      ]
     },
     "execution_count": 15,
     "metadata": {},
     "output_type": "execute_result"
    },
    {
     "data": {
      "image/png": "[encoded data removed]",
      "text/plain": [
       "<Figure size 432x288 with 1 Axes>"
      ]
     },
     "metadata": {
      "needs_background": "light"
     },
     "output_type": "display_data"
    }
   ],
   "source": [
    "plt.imshow(X_test[1].reshape(30,28))\n",
    "y_pred[1]"
   ]
  },
  {
   "cell_type": "code",
   "execution_count": 16,
   "metadata": {},
   "outputs": [
    {
     "data": {
      "text/plain": [
       "0"
      ]
     },
     "execution_count": 16,
     "metadata": {},
     "output_type": "execute_result"
    }
   ],
   "source": [
    "actual = y_test[1]\n",
    "np.argmax(actual,axis=0)"
   ]
  },
  {
   "cell_type": "markdown",
   "metadata": {},
   "source": [
    "### Task 2"
   ]
  },
  {
   "cell_type": "markdown",
   "metadata": {},
   "source": [
    "### Load test dataset"
   ]
  },
  {
   "cell_type": "code",
   "execution_count": 17,
   "metadata": {},
   "outputs": [],
   "source": [
    "test = np.load('data/data/test-dataset.npy')"
   ]
  },
  {
   "cell_type": "code",
   "execution_count": 18,
   "metadata": {},
   "outputs": [
    {
     "name": "stdout",
     "output_type": "stream",
     "text": [
      "(10000, 30, 168)\n"
     ]
    },
    {
     "data": {
      "text/plain": [
       "<matplotlib.image.AxesImage at 0x146ff7d1850>"
      ]
     },
     "execution_count": 18,
     "metadata": {},
     "output_type": "execute_result"
    },
    {
     "data": {
      "image/png": "[encoded data removed]",
      "text/plain": [
       "<Figure size 432x288 with 1 Axes>"
      ]
     },
     "metadata": {
      "needs_background": "light"
     },
     "output_type": "display_data"
    }
   ],
   "source": [
    "print(test.shape)\n",
    "plt.imshow(test[-1])"
   ]
  },
  {
   "cell_type": "markdown",
   "metadata": {},
   "source": [
    "### Image denoising by filtering"
   ]
  },
  {
   "cell_type": "code",
   "execution_count": 19,
   "metadata": {},
   "outputs": [
    {
     "data": {
      "text/plain": [
       "<matplotlib.image.AxesImage at 0x14706da0df0>"
      ]
     },
     "execution_count": 19,
     "metadata": {},
     "output_type": "execute_result"
    },
    {
     "data": {
      "image/png": "[encoded data removed]",
      "text/plain": [
       "<Figure size 432x288 with 1 Axes>"
      ]
     },
     "metadata": {
      "needs_background": "light"
     },
     "output_type": "display_data"
    }
   ],
   "source": [
    "# Noise is of type 'Salt and Pepper' -> Best denoising method is median filter\n",
    "# Denoise all images in the test set\n",
    "from scipy import ndimage\n",
    "test_denoised = []\n",
    "for i in range(len(test)):\n",
    "    new = ndimage.median_filter(test[i], 2)\n",
    "    test_denoised.append(ndimage.median_filter(new, 2))\n",
    "plt.imshow(test_denoised[-1])"
   ]
  },
  {
   "cell_type": "markdown",
   "metadata": {},
   "source": [
    "### Separation of images into letters"
   ]
  },
  {
   "cell_type": "code",
   "execution_count": 20,
   "metadata": {},
   "outputs": [
    {
     "data": {
      "text/plain": [
       "(array([4588.,  130.,  138.,  137.,  174.,  132.,  202.,  270.,  604.,\n",
       "        3625.]),\n",
       " array([255. , 280.5, 306. , 331.5, 357. , 382.5, 408. , 433.5, 459. ,\n",
       "        484.5, 510. ]),\n",
       " <a list of 10 Patch objects>)"
      ]
     },
     "execution_count": 20,
     "metadata": {},
     "output_type": "execute_result"
    },
    {
     "data": {
      "image/png": "[encoded data removed]",
      "text/plain": [
       "<Figure size 432x288 with 1 Axes>"
      ]
     },
     "metadata": {
      "needs_background": "light"
     },
     "output_type": "display_data"
    }
   ],
   "source": [
    "# almost half of images have pixel max 255, but many have it >255, suggesting an overlap of letters\n",
    "# hint: where max>255, two letters overlap, so better to set the pixel location as separation point (done above)\n",
    "a=[]\n",
    "for im in range(10000):\n",
    "    a.append(np.max(test[im]))\n",
    "plt.hist(a)"
   ]
  },
  {
   "cell_type": "code",
   "execution_count": 21,
   "metadata": {},
   "outputs": [],
   "source": [
    "# find contours for the letters within the image\n",
    "test_separated = []\n",
    "deleted_array_count = 0\n",
    "for k in range(len(test_denoised)):\n",
    "    current_image = test_denoised[k].copy()\n",
    "    im=current_image.astype('uint8')\n",
    "    ret, thresh = cv2.threshold(im.copy(), 50, 255, 0)\n",
    "    contours, hierarchy = cv2.findContours(thresh, cv2.RETR_TREE, cv2.CHAIN_APPROX_SIMPLE)[-2:]\n",
    "    \n",
    "    # x,y,w,h = cv2.boundingRect(contours[i]) \n",
    "    # get x, y, width, height to form the bounding box of each letter\n",
    "    bb=[]\n",
    "    deleted=[]\n",
    "    separated = []\n",
    "    separated_max = []\n",
    "    bb = [cv2.boundingRect(contours[i]) for i in range(len(contours))]\n",
    "    for i in range(len(bb)):\n",
    "        if np.max(current_image[bb[i][1]:bb[i][1]+bb[i][3], bb[i][0]:bb[i][0]+bb[i][2]])>255: # if pixel value is larger than 255, separate bounding box into 2 letters split on the respective pixel \n",
    "            separated_max.append((i,np.where(current_image[bb[i][1]:bb[i][1]+bb[i][3], bb[i][0]:bb[i][0]+bb[i][2]]==np.max(current_image[bb[i][1]:bb[i][1]+bb[i][3], bb[i][0]:bb[i][0]+bb[i][2]]))[0][0]))\n",
    "            #print('separated into two letters (pixel value > 255)')\n",
    "        if (bb[i][2] < 20) & (bb[i][3] < 17): # if too small to be a letter\n",
    "            deleted.append(bb[i])\n",
    "            #print('deleted (bbox too small to be a letter)')\n",
    "        if bb[i][2] >= 30:  # if bounding box too large and contains two letters\n",
    "            if i not in separated_max:\n",
    "                separated.append(i)\n",
    "                #print('separated into two letters (bbox too large)')\n",
    "                      \n",
    "    for i,m in separated_max:\n",
    "        if bb[i] not in deleted:\n",
    "                new = bb[i] # create new bounding box with half width\n",
    "                bb[i] = (int(bb[i][0]),int(bb[i][1]),m,int(bb[i][3])) # halve the width\n",
    "                new = (int(bb[i][0])+m, int(bb[i][1]), int(new[0])+int(new[2])-m, int(bb[i][3])) # # create new bounding box with half width and move its x to x + width/2\n",
    "                bb.append(new)\n",
    "                \n",
    "    for i in separated:\n",
    "        if (((len(separated_max)>0) and (i not in np.array(separated_max)[:,0])) or (len(separated_max)==0)):\n",
    "            bb[i] = (bb[i][0],bb[i][1],int(bb[i][2]/2),bb[i][3]) # halve the width\n",
    "            new = bb[i] # create new bounding box with half width\n",
    "            new = (int(bb[i][0]) + int(bb[i][2]), int(bb[i][1]), int(bb[i][2]), int(bb[i][3])) # # create new bounding box with half width and move its x to x + width/2\n",
    "            bb.append(new)\n",
    "    \n",
    "    for element in sorted(deleted, reverse=True): # remove bounding boxes that don't surround a letter\n",
    "        bb.remove(element)\n",
    "                          \n",
    "    widths=[]\n",
    "    heights=[]  \n",
    "    bb = sorted(np.array(bb), key=lambda x: x[0]) # ascending sort by x, i.e. letters from left to right\n",
    "    temp = []\n",
    "    temporary_image = []\n",
    "    for i in range(len(bb)):\n",
    "        temp_letter = current_image[bb[i][1]:bb[i][1]+bb[i][3], bb[i][0]:bb[i][0]+bb[i][2]]\n",
    "        if temp_letter[0].shape > np.max(3):\n",
    "            temporary_image.append(temp_letter)    \n",
    "        else:\n",
    "            #print('deleted array of size 0')\n",
    "            deleted_array_count +=1\n",
    "    test_separated.append(temporary_image)\n",
    "test_separated = np.array(test_separated)"
   ]
  },
  {
   "cell_type": "code",
   "execution_count": 22,
   "metadata": {},
   "outputs": [
    {
     "data": {
      "text/plain": [
       "10000"
      ]
     },
     "execution_count": 22,
     "metadata": {},
     "output_type": "execute_result"
    }
   ],
   "source": [
    "len(test_separated)"
   ]
  },
  {
   "cell_type": "markdown",
   "metadata": {},
   "source": [
    "### Visualise letter separation"
   ]
  },
  {
   "cell_type": "code",
   "execution_count": 23,
   "metadata": {},
   "outputs": [
    {
     "data": {
      "text/plain": [
       "(array([2.400e+01, 0.000e+00, 8.620e+02, 0.000e+00, 8.578e+03, 0.000e+00,\n",
       "        4.280e+02, 0.000e+00, 1.050e+02, 3.000e+00]),\n",
       " array([3. , 3.5, 4. , 4.5, 5. , 5.5, 6. , 6.5, 7. , 7.5, 8. ]),\n",
       " <a list of 10 Patch objects>)"
      ]
     },
     "execution_count": 23,
     "metadata": {},
     "output_type": "execute_result"
    },
    {
     "data": {
      "image/png": "[encoded data removed]",
      "text/plain": [
       "<Figure size 432x288 with 1 Axes>"
      ]
     },
     "metadata": {
      "needs_background": "light"
     },
     "output_type": "display_data"
    }
   ],
   "source": [
    "# over 85% of images were separated into 5 letters, but still many into !=5 letters\n",
    "l=[]\n",
    "for i in range(len(test_separated)):\n",
    "    l.append(len(test_separated[i]))\n",
    "plt.hist(l)"
   ]
  },
  {
   "cell_type": "code",
   "execution_count": 24,
   "metadata": {},
   "outputs": [
    {
     "data": {
      "image/png": "[encoded data removed]",
      "text/plain": [
       "<Figure size 432x288 with 1 Axes>"
      ]
     },
     "metadata": {
      "needs_background": "light"
     },
     "output_type": "display_data"
    },
    {
     "data": {
      "image/png": "[encoded data removed]",
      "text/plain": [
       "<Figure size 576x576 with 5 Axes>"
      ]
     },
     "metadata": {
      "needs_background": "light"
     },
     "output_type": "display_data"
    }
   ],
   "source": [
    "plt.imshow(test_denoised[1])\n",
    "plt.show()\n",
    "\n",
    "fig=plt.figure(figsize=(8, 8))\n",
    "for i in range(len(test_separated[1])):\n",
    "    fig.add_subplot(1,len(test_separated[1]),i+1)\n",
    "    plt.imshow(test_separated[1][i])"
   ]
  },
  {
   "cell_type": "code",
   "execution_count": 25,
   "metadata": {},
   "outputs": [],
   "source": [
    "use_samples = test_separated[180]\n",
    "block_size = 55\n",
    "noise_removed = []\n",
    "predictions = []\n",
    "for sample in use_samples:\n",
    "    imbw = sample > filters.threshold_local(sample, block_size, method = 'mean')\n",
    "    imbw1 = remove_small_objects(imbw, 10, connectivity=1)\n",
    "    roi = imbw1\n",
    "    roi = roi.reshape((roi.shape[0],roi.shape[1],1))\n",
    "    roi = resize(roi,(30,28))\n",
    "    image = roi.reshape(30,28)\n",
    "    prediction1 = model.predict(image.reshape(-1,30,28,1))\n",
    "    predictions.append(prediction1)"
   ]
  },
  {
   "cell_type": "markdown",
   "metadata": {},
   "source": [
    "# Letter predictions"
   ]
  },
  {
   "cell_type": "code",
   "execution_count": null,
   "metadata": {},
   "outputs": [],
   "source": [
    "from skimage.measure import label, regionprops\n",
    "from skimage.morphology import remove_small_objects\n",
    "from skimage.color import label2rgb\n",
    "from skimage import filters\n",
    "import tensorflow as tf\n",
    "from keras.models import load_model\n",
    "\n",
    "model = load_model('noise_30x28_model.h5')\n",
    "\n",
    "predictions1 = []\n",
    "predictions2 = []\n",
    "predictions3 = []\n",
    "predictions4 = []\n",
    "predictions5 = []\n",
    "images = []\n",
    "connected_c = []\n",
    "final = []\n",
    "\n",
    "for im in test_separated:\n",
    "    for letter in im:\n",
    "        imbw = letter > filters.threshold_local(letter, block_size, method = 'mean')\n",
    "        imbw1 = remove_small_objects(imbw, 10, connectivity=1)\n",
    "        roi = imbw1\n",
    "        roi = roi.reshape((roi.shape[0],roi.shape[1],1))\n",
    "        roi = resize(roi,(30,28))\n",
    "        image = roi.reshape(30,28)\n",
    "        \n",
    "        prediction1 = model.predict_classes(image.reshape(-1,30,28,1))\n",
    "        prediction2 = model.predict_classes(image.reshape(-1,30,28,1))\n",
    "        prediction3 = model.predict_classes(image.reshape(-1,30,28,1))\n",
    "        prediction4 = model.predict_classes(image.reshape(-1,30,28,1))\n",
    "        prediction5 = model.predict_classes(image.reshape(-1,30,28,1))\n",
    "        images.append(image)\n",
    "        predictions1.append(prediction1)\n",
    "        predictions2.append(prediction2)\n",
    "        predictions3.append(prediction3)\n",
    "        predictions4.append(prediction4)\n",
    "        predictions5.append(prediction5)    \n",
    "    connected = np.concatenate(images, axis=1)\n",
    "    pred_connect1 = np.concatenate(predictions1)\n",
    "    pred_connect2 = np.concatenate(predictions2)\n",
    "    pred_connect3 = np.concatenate(predictions3)\n",
    "    pred_connect4 = np.concatenate(predictions4)\n",
    "    pred_connect5 = np.concatenate(predictions5)\n",
    "    \n",
    "    a_str1 = pred_connect1.astype(str)\n",
    "    a_str2 = pred_connect2.astype(str)\n",
    "    a_str3 = pred_connect3.astype(str)\n",
    "    a_str4 = pred_connect4.astype(str)\n",
    "    a_str5 = pred_connect5.astype(str)\n",
    "    \n",
    "    a_str1_1= np.char.zfill(a_str1, 2)\n",
    "    a_str1_2= np.char.zfill(a_str2, 2)\n",
    "    a_str1_3= np.char.zfill(a_str3, 2)\n",
    "    a_str1_4= np.char.zfill(a_str4, 2)\n",
    "    a_str1_5= np.char.zfill(a_str5, 2)\n",
    "    \n",
    "    a_str2_1 = ''.join(a_str1_1)\n",
    "    a_str2_2 = ''.join(a_str1_2)\n",
    "    a_str2_3 = ''.join(a_str1_3)\n",
    "    a_str2_4 = ''.join(a_str1_4)\n",
    "    a_str2_5 = ''.join(a_str1_5)\n",
    "    \n",
    "    predictions_c = []\n",
    "    connected_c.append(connected) \n",
    "    predictions_c.append(a_str2_1)\n",
    "    predictions_c.append(a_str2_2)\n",
    "    predictions_c.append(a_str2_3)\n",
    "    predictions_c.append(a_str2_4)\n",
    "    predictions_c.append(a_str2_5)\n",
    "    final1 = predictions_c.copy()\n",
    "    final.append(final1)\n",
    "    predictions1.clear()\n",
    "    predictions2.clear()\n",
    "    predictions3.clear()\n",
    "    predictions4.clear()\n",
    "    predictions5.clear()\n",
    "    \n",
    "    predictions_c.clear()\n",
    "    images.clear()  "
   ]
  },
  {
   "cell_type": "markdown",
   "metadata": {},
   "source": [
    "### Save predictions to csv"
   ]
  },
  {
   "cell_type": "code",
   "execution_count": null,
   "metadata": {},
   "outputs": [],
   "source": [
    "import csv\n",
    "with open('Predictions.csv', 'w', newline='') as myfile:\n",
    "    wr = csv.writer(myfile, quoting=csv.QUOTE_ALL)\n",
    "    wr.writerows(final)"
   ]
  }
 ],
 "metadata": {
  "kernelspec": {
   "display_name": "Python 3",
   "language": "python",
   "name": "python3"
  },
  "language_info": {
   "codemirror_mode": {
    "name": "ipython",
    "version": 3
   },
   "file_extension": ".py",
   "mimetype": "text/x-python",
   "name": "python",
   "nbconvert_exporter": "python",
   "pygments_lexer": "ipython3",
   "version": "3.8.3"
  }
 },
 "nbformat": 4,
 "nbformat_minor": 4
}
